{
  "nbformat": 4,
  "nbformat_minor": 0,
  "metadata": {
    "kernelspec": {
      "display_name": "Python 2",
      "language": "python",
      "name": "python2"
    },
    "language_info": {
      "mimetype": "text/x-python",
      "name": "python",
      "pygments_lexer": "ipython2",
      "codemirror_mode": {
        "name": "ipython",
        "version": 2
      },
      "version": "2.7.9",
      "nbconvert_exporter": "python",
      "file_extension": ".py"
    },
    "name": "1-python",
    "notebookId": 3047179637077656,
    "colab": {
      "name": "TP1 - Big Data - Bertiere Lucie.ipynb",
      "provenance": [],
      "collapsed_sections": []
    }
  },
  "cells": [
    {
      "cell_type": "markdown",
      "metadata": {
        "id": "UsbuB0aetRGj"
      },
      "source": [
        "# Notebook 1: Python Overview\n",
        "### *Bertiere Lucie*\n",
        "\n",
        "## Motivations\n",
        "\n",
        "Spark provides multiple *Application Programming Interfaces* (API), i.e. the interface allowing the user to interact with the application. The main APIs are [Scala](http://spark.apache.org/docs/latest/api/scala/index.html#org.apache.spark.package) and [Java](http://spark.apache.org/docs/latest/api/java/index.html) APIs, as Spark is implemented in Scala and runs on the Java Virtual Machine (JVM).\n",
        "Since the 0.7.0 version, a [Python API](http://spark.apache.org/docs/latest/api/python/index.html) is available, also known as PySpark. An [R API](http://spark.apache.org/docs/latest/api/R/index.html) has been released with 1.5.0 version. During this course, you will be using Spark 2.4.4.\n",
        "\n",
        "Throughout this course we will use the Python API for the following reasons:\n",
        "- R API is still too young and limited to be relied on. Besides, R can quickly become a living hell when using immature libraries.\n",
        "- Many of you are wanabee datascientists, and Python is a must-know language in data industry.\n",
        "- Scala and Java APIs would have been quite hard to learn given the length of the course and your actual programming skills.\n",
        "- Python is easy to learn, and even easier if you are already familiar with R.\n",
        "\n",
        "The goal of this session is to teach (or remind) you the syntax of basic operations, control structures and declarations in Python that will be useful as datascientist. Keep in mind that we do not have a lot of time, and that you should be able to create functions and classes and to manipulate them at the end of the lab. If you don't get that, the rest of the course will be hard to follow. Don't hesitate to ask for explanations and/or more exercises if you don't feel  confident enough at the end of the lab.\n",
        "\n",
        "**Note:** Python comes in two flavours, Python 2 and Python 3. Python 2 is now officially deprecated so there is no longer any support. However, a lot of companies have still a lot of code in Python 2 (Tensorflow only supports python 3 since 2019 and Google is well known for his extensive use of Python 2). In this course, we will use Python 3 rather than Python 2. Note that if you know Python 2, learning Python 3 will be lightning-fast.\n",
        "For those who are interested, you can quickly learn Python 3 syntax [over here](https://learnxinyminutes.com/docs/python3/) or find some [cheatsheets](http://ptgmedia.pearsoncmg.com/imprint_downloads/informit/promotions/python/python2python3.pdf) highlighting the differences between the two versions. Spark Python API is compatible with Python 3 since Spark 1.4.0.\n",
        "\n",
        "When you look at stackoverflow, please be aware that they might share snippets of code in another python version and that you might need to translate them. So no stupid copy-paste.\n",
        "\n",
        "*This introduction relies on [Learn Python in Y minutes](https://learnxinyminutes.com/docs/python/)*\n",
        "\n",
        "## Introduction\n",
        "\n",
        "Python is a high level, general-purpose interpreted language. Python is meant to be very concise and readable, it is thus a very pleasant language to work with. \n",
        "\n",
        "## 1. Primitive Datatypes and Operators\n",
        "Read section 1 of [Learn python in Y Minutes](https://learnxinyminutes.com/docs/python/) (if you already know Python, you can skip this step). Then, replace `???` in the following cells with your code to answer the questions. To get started, please run the following cell."
      ]
    },
    {
      "cell_type": "markdown",
      "metadata": {
        "id": "xaJAXdwatRHB"
      },
      "source": [
        "Compute 4 + 8"
      ]
    },
    {
      "cell_type": "code",
      "execution_count": null,
      "metadata": {
        "colab": {
          "base_uri": "https://localhost:8080/"
        },
        "id": "kxvDBoUltRHD",
        "outputId": "2e819520-1267-44d4-fb64-4576c6fd3e42"
      },
      "outputs": [
        {
          "output_type": "execute_result",
          "data": {
            "text/plain": [
              "12"
            ]
          },
          "metadata": {},
          "execution_count": 1
        }
      ],
      "source": [
        "4+8"
      ]
    },
    {
      "cell_type": "markdown",
      "metadata": {
        "id": "uumGlRjUtRHQ"
      },
      "source": [
        "Compute 4 * 8"
      ]
    },
    {
      "cell_type": "code",
      "execution_count": null,
      "metadata": {
        "colab": {
          "base_uri": "https://localhost:8080/"
        },
        "id": "V88uqJeatRHS",
        "outputId": "b3b361bd-b8c4-4f8f-f3c8-588fdb6a7e36"
      },
      "outputs": [
        {
          "output_type": "execute_result",
          "data": {
            "text/plain": [
              "32"
            ]
          },
          "metadata": {},
          "execution_count": 2
        }
      ],
      "source": [
        "4*8"
      ]
    },
    {
      "cell_type": "markdown",
      "metadata": {
        "id": "iFsOahCatRHd"
      },
      "source": [
        "Compute 4 / 8 (using the regular division operation, not integer division)"
      ]
    },
    {
      "cell_type": "code",
      "execution_count": null,
      "metadata": {
        "colab": {
          "base_uri": "https://localhost:8080/"
        },
        "id": "TolXN7L5tRHg",
        "outputId": "094187cb-59a4-4e85-971b-24a9cf1081da"
      },
      "outputs": [
        {
          "output_type": "execute_result",
          "data": {
            "text/plain": [
              "0.5"
            ]
          },
          "metadata": {},
          "execution_count": 3
        }
      ],
      "source": [
        "4/8"
      ]
    },
    {
      "cell_type": "markdown",
      "metadata": {
        "id": "hw-zAZF4mX2F"
      },
      "source": [
        "Compute $4^8$"
      ]
    },
    {
      "cell_type": "code",
      "execution_count": null,
      "metadata": {
        "colab": {
          "base_uri": "https://localhost:8080/"
        },
        "id": "kYgxXqfHmX2G",
        "outputId": "0fd48985-8fca-4116-a659-eb37d784d951"
      },
      "outputs": [
        {
          "output_type": "execute_result",
          "data": {
            "text/plain": [
              "12"
            ]
          },
          "metadata": {},
          "execution_count": 4
        }
      ],
      "source": [
        "4^8"
      ]
    },
    {
      "cell_type": "markdown",
      "metadata": {
        "id": "BDOxUKpjtRHy"
      },
      "source": [
        "Check if the variable `foo` is None:"
      ]
    },
    {
      "cell_type": "code",
      "execution_count": null,
      "metadata": {
        "colab": {
          "base_uri": "https://localhost:8080/"
        },
        "id": "1KIB_tlwtRH0",
        "outputId": "346faaa5-75a5-4fde-cca7-fe750d4cb550"
      },
      "outputs": [
        {
          "output_type": "stream",
          "name": "stdout",
          "text": [
            "True\n"
          ]
        }
      ],
      "source": [
        "foo = None\n",
        "print(foo==None)"
      ]
    },
    {
      "cell_type": "markdown",
      "metadata": {
        "collapsed": true,
        "id": "t1lgdo-BtRH-"
      },
      "source": [
        "## 2. Variables and Collections\n",
        "Same as before, read the corresponding section, and answer the questions below.\n",
        "\n",
        "Now you're asked to `print` your results instead of just output them.\n",
        "\n",
        "Please always remember that there is a difference between the output of your code (which is the result of the last executed line) and the printed output."
      ]
    },
    {
      "cell_type": "code",
      "execution_count": null,
      "metadata": {
        "colab": {
          "base_uri": "https://localhost:8080/"
        },
        "id": "mz2wMm1lmX2I",
        "outputId": "04f6b043-31c5-42cd-f4ed-72d17b32c4fa"
      },
      "outputs": [
        {
          "output_type": "stream",
          "name": "stdout",
          "text": [
            "return the value of txt : This is a text\n",
            "return the value of new_txt : This is another text\n"
          ]
        }
      ],
      "source": [
        "txt = \"This is a text\"\n",
        "#print(txt)\n",
        "new_txt = \"This is another text\" # assignment doesn't return anything\n",
        "# Try uncommenting the following lines to check your understanding\n",
        "print(\"return the value of txt :\", txt) \n",
        "print(\"return the value of new_txt :\", new_txt)"
      ]
    },
    {
      "cell_type": "code",
      "execution_count": null,
      "metadata": {
        "colab": {
          "base_uri": "https://localhost:8080/"
        },
        "id": "4HRJAJZTtRH_",
        "outputId": "5d27520d-0f02-4c11-c98a-ce4d68e07ca6"
      },
      "outputs": [
        {
          "output_type": "stream",
          "name": "stdout",
          "text": [
            "3.0\n"
          ]
        }
      ],
      "source": [
        "# Declare a variable containing a float of your choice and print it\n",
        "# From now on, when you will be asked to print something, please use the print statement.\n",
        "a = 3.0\n",
        "print(a)"
      ]
    },
    {
      "cell_type": "code",
      "execution_count": null,
      "metadata": {
        "colab": {
          "base_uri": "https://localhost:8080/"
        },
        "id": "baIJHJcytRIF",
        "outputId": "7f78c749-f1af-438d-89a2-e4f8077575d1"
      },
      "outputs": [
        {
          "output_type": "stream",
          "name": "stdout",
          "text": [
            "['a', 'b', 'c', 'd', 1]\n"
          ]
        }
      ],
      "source": [
        "# Create a list containing strings and store it in a variable\n",
        "l = ['a', 'b', 'c']\n",
        "# Append a new string to this list\n",
        "l.append('d')\n",
        "# Append an integer to this list and print it\n",
        "l.append(1)\n",
        "print(l)"
      ]
    },
    {
      "cell_type": "markdown",
      "metadata": {
        "id": "JvyO8q5AtRIM"
      },
      "source": [
        "Note that the modifications on list objects are performed inplace, i.e.\n",
        "\n",
        "    li = [1, 2, 3]\n",
        "    li.append(4)\n",
        "    li  # => [1, 2, 3, 4]"
      ]
    },
    {
      "cell_type": "code",
      "execution_count": null,
      "metadata": {
        "colab": {
          "base_uri": "https://localhost:8080/"
        },
        "id": "aY3ZCgaKtRIO",
        "outputId": "8289eb01-1b85-46de-a7ba-0456144a6c44"
      },
      "outputs": [
        {
          "output_type": "stream",
          "name": "stdout",
          "text": [
            "['a', 'b', 'c', 'd']\n"
          ]
        }
      ],
      "source": [
        "# Mixing types inside a list object can be a bad idea depending on the situation.\n",
        "# Remove the integer you just inserted in the list and print it\n",
        "bar = l.copy()\n",
        "bar.remove(1)\n",
        "print(bar)"
      ]
    },
    {
      "cell_type": "code",
      "execution_count": null,
      "metadata": {
        "colab": {
          "base_uri": "https://localhost:8080/"
        },
        "id": "ZZj4QAb7tRIU",
        "outputId": "c3b976cf-7748-449c-d544-e09c0bd96303"
      },
      "outputs": [
        {
          "output_type": "stream",
          "name": "stdout",
          "text": [
            "b\n"
          ]
        }
      ],
      "source": [
        "# Print the second element of the list\n",
        "print(bar[1])"
      ]
    },
    {
      "cell_type": "code",
      "execution_count": null,
      "metadata": {
        "colab": {
          "base_uri": "https://localhost:8080/"
        },
        "id": "7RaXbtqCmX2K",
        "outputId": "d3744c21-4fa6-42a9-d36b-d836bcc72757"
      },
      "outputs": [
        {
          "output_type": "stream",
          "name": "stdout",
          "text": [
            "42.57\n",
            "42.56\n"
          ]
        }
      ],
      "source": [
        "import math\n",
        "x = 42.567\n",
        "# Print x with only two decimal (rounding)\n",
        "print(round(x,2))\n",
        "# Print x with only two decimal (trunking)\n",
        "\n",
        "''' https://stackoverflow.com/questions/8595973/truncate-to-three-decimals-in-python '''\n",
        "def truncate(number, digits):\n",
        "    stepper = 10.0 ** digits\n",
        "    return math.trunc(stepper * number) / stepper\n",
        "\n",
        "print(truncate(x,2))"
      ]
    },
    {
      "cell_type": "markdown",
      "metadata": {
        "id": "_RKnEw4KtRIa"
      },
      "source": [
        "You can access list elements in reverse order, e.g.\n",
        "\n",
        "    li[-1]  # returns the last element of the list\n",
        "    li[-2]  # returns the second last element of the list\n",
        "    \n",
        "and so on..."
      ]
    },
    {
      "cell_type": "code",
      "execution_count": null,
      "metadata": {
        "colab": {
          "base_uri": "https://localhost:8080/"
        },
        "id": "X15yEiSotRId",
        "outputId": "0c1c2795-0f96-4cf3-f515-951da10e97f7"
      },
      "outputs": [
        {
          "output_type": "stream",
          "name": "stdout",
          "text": [
            "['a', 'b', 'c', 'd', 'We', 'are', 'the', 'knights', 'who', 'say', 'Ni', '!']\n"
          ]
        }
      ],
      "source": [
        "# Extend your list with new_list and print it\n",
        "new_list = [\"We\", \"are\", \"the\", \"knights\", \"who\", \"say\", \"Ni\", \"!\"]\n",
        "bar.extend(new_list)\n",
        "print(bar)"
      ]
    },
    {
      "cell_type": "code",
      "execution_count": null,
      "metadata": {
        "colab": {
          "base_uri": "https://localhost:8080/"
        },
        "id": "i3k7EDdAtRIi",
        "outputId": "d41cc083-4c13-4a68-e1b7-1346f4ef3c5e"
      },
      "outputs": [
        {
          "output_type": "stream",
          "name": "stdout",
          "text": [
            "['a', 'b', 'c', 'd', 'We', 'are', 'the', 'knights', 'who', 'say', 'Ekke Ekke Ekke Ekke Ptang Zoo Boing', '!']\n"
          ]
        }
      ],
      "source": [
        "import numpy as np\n",
        "# Replace \"Ni\" by \"Ekke Ekke Ekke Ekke Ptang Zoo Boing\" in the list and print it\n",
        "my_list = np.array(bar)\n",
        "bar = np.where(my_list == 'Ni', 'Ekke Ekke Ekke Ekke Ptang Zoo Boing', my_list).tolist()\n",
        "print(bar)"
      ]
    },
    {
      "cell_type": "code",
      "execution_count": null,
      "metadata": {
        "colab": {
          "base_uri": "https://localhost:8080/"
        },
        "id": "2HoKEtETtRIn",
        "outputId": "90a8c1ca-eede-41f4-efb9-8b1c26ec6d61"
      },
      "outputs": [
        {
          "output_type": "execute_result",
          "data": {
            "text/plain": [
              "12"
            ]
          },
          "metadata": {},
          "execution_count": 46
        }
      ],
      "source": [
        "# Compute the length of the list and print it\n",
        "print(len(bar))"
      ]
    },
    {
      "cell_type": "code",
      "execution_count": null,
      "metadata": {
        "id": "2ZziFC0QtRIt"
      },
      "outputs": [],
      "source": [
        "# What is the difference between lists and tuples?\n",
        "\"\"\"\n",
        "The key difference between the tuples and lists is that while the tuples are immutable objects the lists are mutable. \n",
        "\"\"\""
      ]
    },
    {
      "cell_type": "code",
      "execution_count": null,
      "metadata": {
        "id": "B2zRHa3atRIx"
      },
      "outputs": [],
      "source": [
        "# Create a dictionary containing the following mapping:\n",
        "# \"one\" : 1\n",
        "# \"two\" : 2\n",
        "# etc. until you reach \"five\" : 5\n",
        "baz = {'one' : 1, 'two' : 2, 'three' : 3, 'four' : 4 , 'five' : 5}"
      ]
    },
    {
      "cell_type": "code",
      "execution_count": null,
      "metadata": {
        "colab": {
          "base_uri": "https://localhost:8080/"
        },
        "id": "c_Y6qcpUtRI3",
        "outputId": "8c9d1e70-6a9d-48a2-c4f6-daf3261a5166"
      },
      "outputs": [
        {
          "output_type": "stream",
          "name": "stdout",
          "text": [
            "4\n"
          ]
        }
      ],
      "source": [
        "# Check if the key \"four\" is contained in the dict\n",
        "# If four is contained in the dict, print the associated value\n",
        "if \"four\" in baz:\n",
        "    print(baz[\"four\"])"
      ]
    },
    {
      "cell_type": "code",
      "execution_count": null,
      "metadata": {
        "colab": {
          "base_uri": "https://localhost:8080/"
        },
        "id": "ECwOx4TJtRI9",
        "outputId": "acd9129f-af8f-4d24-d449-7475befedd39"
      },
      "outputs": [
        {
          "output_type": "stream",
          "name": "stdout",
          "text": [
            "['h', 'q', 'j', 'l', 'v', 'f', 'o', 'p', 'i', 'e', 'g', 'n', 'u', 's', 'r']\n"
          ]
        }
      ],
      "source": [
        "gibberish = list(\"fqfgsrhrfeqluihjgrshioprqoqeionfvnorfiqeo\")\n",
        "# Find all the unique letters contained in gibberish. Your answer should fit in one line of code\n",
        "unique_letters = list(set(gibberish))\n",
        "print(unique_letters)"
      ]
    },
    {
      "cell_type": "markdown",
      "metadata": {
        "id": "P7yBADultRJC"
      },
      "source": [
        "You should now be able to answer the following problem using dictionaries, lists and sets. Imagine you owe money to your friends because your forgot your credit card last time you went out for drinks. You want to remember how much you owe to each of them in order to refund them later. Which data structure would be useful to store this information? Use this data structure and fill it in with some debt data in the cell below:"
      ]
    },
    {
      "cell_type": "code",
      "execution_count": null,
      "metadata": {
        "id": "suyHVgJjtRJD"
      },
      "outputs": [],
      "source": [
        "debts = {'Romane' : 10, 'Dot' : 5, 'Raquel' : 9}"
      ]
    },
    {
      "cell_type": "markdown",
      "metadata": {
        "id": "mQQSVcCHtRJI"
      },
      "source": [
        "Another party night with more people, yet you forgot your credit card again... You meet new friends who buy you drinks. Create another data structure as above with different data, i.e. include friends that were not here during the first party and new friends."
      ]
    },
    {
      "cell_type": "code",
      "execution_count": null,
      "metadata": {
        "id": "_cjYLMvEtRJK"
      },
      "outputs": [],
      "source": [
        "debts_2 = {'Sophie' : 4, 'Jade' : 2, 'Fleur' : 6, 'Dot' : 8}"
      ]
    },
    {
      "cell_type": "code",
      "source": [
        "list(debts_2.keys())"
      ],
      "metadata": {
        "colab": {
          "base_uri": "https://localhost:8080/"
        },
        "id": "BKwJ9J69wY-Y",
        "outputId": "38aaf4f2-54da-47b3-b15b-f1167286c3c4"
      },
      "execution_count": null,
      "outputs": [
        {
          "output_type": "execute_result",
          "data": {
            "text/plain": [
              "['Sophie', 'Jade', 'Fleur', 'Dot']"
            ]
          },
          "metadata": {},
          "execution_count": 64
        }
      ]
    },
    {
      "cell_type": "markdown",
      "metadata": {
        "id": "Li3vPIN7tRJP"
      },
      "source": [
        "Count the number of new friends you made that second night. Print the name of the friends who bought you drinks during the second party, but not during the first."
      ]
    },
    {
      "cell_type": "code",
      "execution_count": null,
      "metadata": {
        "colab": {
          "base_uri": "https://localhost:8080/"
        },
        "id": "1Rx2ix10tRJQ",
        "outputId": "3ba48650-276d-4476-f1b4-4429d92c343a"
      },
      "outputs": [
        {
          "output_type": "stream",
          "name": "stdout",
          "text": [
            "['Sophie', 'Jade', 'Fleur']\n"
          ]
        }
      ],
      "source": [
        "new_friends =  [k for k in list(debts_2.keys()) if k not in list(debts.keys())]# should fit in one line\n",
        "nb_new_friends = len(debts_2) # should fit in one line\n",
        "print(new_friends)"
      ]
    },
    {
      "cell_type": "markdown",
      "metadata": {
        "collapsed": true,
        "id": "fRqhthIttRJU"
      },
      "source": [
        "## 3. Control flow\n",
        "Same as before, read the corresponding section, and answer the questions below.\n",
        "You can skip the paragraph on exceptions for now."
      ]
    },
    {
      "cell_type": "code",
      "execution_count": null,
      "metadata": {
        "colab": {
          "base_uri": "https://localhost:8080/"
        },
        "id": "SZIDKiAntRJW",
        "outputId": "0d34631a-26be-4857-d9f6-3a1bd40a10e1"
      },
      "outputs": [
        {
          "output_type": "stream",
          "name": "stdout",
          "text": [
            "Duh...\n"
          ]
        }
      ],
      "source": [
        "# Code the following:\n",
        "# if you have made more than 5 friends that second night, \n",
        "# print \"Yay! I'm super popular!\", else, print \"Duh...\"\n",
        "if len(debts_2) >= 5 :\n",
        "  print(\"Yay! I'm super popular!\")\n",
        "else:\n",
        "  print(\"Duh...\")"
      ]
    },
    {
      "cell_type": "code",
      "execution_count": null,
      "metadata": {
        "colab": {
          "base_uri": "https://localhost:8080/"
        },
        "id": "x1KK30CWtRJa",
        "outputId": "9b5e77ae-2dd9-4d7f-c2d0-caa78c299d61"
      },
      "outputs": [
        {
          "output_type": "stream",
          "name": "stdout",
          "text": [
            "Thanks Sophie !\n",
            "Thanks Jade !\n",
            "Thanks Fleur !\n",
            "Thanks Dot !\n"
          ]
        }
      ],
      "source": [
        "# Now, thank each new friend iteratively, i.e.\n",
        "# print \"Thanks <name of the friend>!\" using loops and string formatting (cf. section 1)\n",
        "for k,v in debts_2.items():\n",
        "  print(\"Thanks\",k,\"!\")"
      ]
    },
    {
      "cell_type": "code",
      "execution_count": null,
      "metadata": {
        "colab": {
          "base_uri": "https://localhost:8080/"
        },
        "id": "iNOfoXTJtRJd",
        "outputId": "28c8b02c-b288-4209-8109-af9639c3427e"
      },
      "outputs": [
        {
          "output_type": "stream",
          "name": "stdout",
          "text": [
            "120\n"
          ]
        }
      ],
      "source": [
        "# Sum all the number from 0 to 15 (included) using what we've seen so far (i.e. without the function sum() )\n",
        "sum_to_fifteen = 0\n",
        "for i in range(16):\n",
        "  sum_to_fifteen += i\n",
        "print(sum_to_fifteen)"
      ]
    },
    {
      "cell_type": "code",
      "execution_count": null,
      "metadata": {
        "colab": {
          "base_uri": "https://localhost:8080/"
        },
        "id": "hNXGkNgitRJh",
        "outputId": "4f2f1235-63f0-444d-bdad-95f9fa836e54"
      },
      "outputs": [
        {
          "output_type": "stream",
          "name": "stdout",
          "text": [
            "0\n",
            "1\n",
            "2\n"
          ]
        }
      ],
      "source": [
        "# Note: you can break a loop with the break statement\n",
        "for i in range(136):\n",
        "    print(i)\n",
        "    if i >= 2:\n",
        "        break"
      ]
    },
    {
      "cell_type": "code",
      "execution_count": null,
      "metadata": {
        "colab": {
          "base_uri": "https://localhost:8080/"
        },
        "id": "1nZB8pMltRJm",
        "outputId": "20c8229a-5695-42e2-821b-a0172ff97f21"
      },
      "outputs": [
        {
          "output_type": "stream",
          "name": "stdout",
          "text": [
            "a 0\n",
            "b 1\n",
            "c 2\n"
          ]
        }
      ],
      "source": [
        "# enumerate function can be very useful when dealing with iterators:\n",
        "for i, value in enumerate([\"a\", \"b\", \"c\"]):\n",
        "    print(value, i)"
      ]
    },
    {
      "cell_type": "markdown",
      "metadata": {
        "id": "rSpPZ8q0tRJq"
      },
      "source": [
        "## 4. Functions\n",
        "Things are becoming more interesting. Read section 4. It's ok if you don't get the args/kwargs part. Be sure to understand basic function declaration and anonymous function declaration. Higher order functions, maps, and filters will be covered during the next lab.\n",
        "\n",
        "Write a Python function that checks whether a passed string is palindrome or not. Note: a palindrome is a word, phrase, or sequence that reads the same backward and forward, e.g. \"madam\" or \"nurses run\". Hint: strings are lists of characters e.g.\n",
        "\n",
        "    a = \"abcdef\"\n",
        "    a[2] => c\n",
        "    \n",
        "If needed, here are [some tips about string manipulation](http://www.pythonforbeginners.com/basics/string-manipulation-in-python)."
      ]
    },
    {
      "cell_type": "code",
      "execution_count": null,
      "metadata": {
        "colab": {
          "base_uri": "https://localhost:8080/"
        },
        "id": "lSa99mbptRJr",
        "outputId": "0deb50f4-3d12-4c3c-c089-fb914de4d8f3"
      },
      "outputs": [
        {
          "output_type": "stream",
          "name": "stdout",
          "text": [
            "True\n",
            "True\n",
            "False\n"
          ]
        }
      ],
      "source": [
        "def isPalindrome(string_input):\n",
        "  string_input = string_input.replace(\" \", \"\")\n",
        "  return string_input == string_input[::-1]\n",
        "\n",
        "\n",
        "print(isPalindrome('aza'))        # Simple palindrome\n",
        "print(isPalindrome('nurses run')) # Palindrome containing a space\n",
        "print(isPalindrome('palindrome')) # Not a palindrome"
      ]
    },
    {
      "cell_type": "markdown",
      "metadata": {
        "id": "zB9qsMDJtRJv"
      },
      "source": [
        "Write a Python function to check whether a string is pangram or not. Note: pangrams are words or sentences containing every letter of the alphabet at least once. For example: \"The quick brown fox jumps over the lazy dog\".\n",
        "\n",
        "[Hint](https://docs.python.org/2/library/stdtypes.html#set-types-set-frozenset)"
      ]
    },
    {
      "cell_type": "code",
      "execution_count": null,
      "metadata": {
        "colab": {
          "base_uri": "https://localhost:8080/"
        },
        "id": "klw8o3FDtRJx",
        "outputId": "ecfe3969-a624-4bb1-bd01-64fdd3a2c7e1"
      },
      "outputs": [
        {
          "output_type": "stream",
          "name": "stdout",
          "text": [
            "True\n",
            "False\n"
          ]
        }
      ],
      "source": [
        "import string\n",
        "\n",
        "# In this function, \"alphabet\" argument has a default value: string.ascii_lowercase\n",
        "# string.ascii_lowercase contains all the letters in lowercase.\n",
        "def ispangram(string_input, alphabet=string.ascii_lowercase):  \n",
        "    for char in set(alphabet): \n",
        "        if char not in string_input:\n",
        "            return False\n",
        "    return True\n",
        "   \n",
        "print(ispangram('The quick brown fox jumps over the lazy dog'))\n",
        "print(ispangram('The quick red fox jumps over the lazy dog'))"
      ]
    },
    {
      "cell_type": "markdown",
      "metadata": {
        "collapsed": true,
        "id": "hIXo-hJ_tRJ0"
      },
      "source": [
        "### Python lambda expressions\n",
        "\n",
        "When evaluated, lambda expressions return an anonymous function, i.e. a function that is not bound to any variable (hence the \"anonymous\"). However, it is possible to assign the function to a variable. Lambda expressions are particularly useful when you need to pass a simple function into another function. To create lambda functions, we use the following syntax\n",
        "\n",
        "    lambda argument1, argument2, argument3, etc. : body_of_the_function\n",
        "\n",
        "For example, a function which takes a number and returns its square would be\n",
        "\n",
        "    lambda x: x**2\n",
        "    \n",
        "A function that takes two numbers and returns their sum:\n",
        "\n",
        "    lambda x, y: x + y\n",
        "    \n",
        "`lambda` generates a function and returns it, while `def` generates a function and assigns it to a name.  The function returned by `lambda` also automatically returns the value of its expression statement, which reduces the amount of code that needs to be written.\n",
        "\n",
        "Here are some additional references that explain lambdas: [Lambda Functions](http://www.secnetix.de/olli/Python/lambda_functions.hawk), [Lambda Tutorial](https://pythonconquerstheuniverse.wordpress.com/2011/08/29/lambda_tutorial/), and [Python Functions](http://www.bogotobogo.com/python/python_functions_lambda.php).\n",
        "\n",
        "Here is an example:"
      ]
    },
    {
      "cell_type": "code",
      "execution_count": null,
      "metadata": {
        "colab": {
          "base_uri": "https://localhost:8080/"
        },
        "id": "Qag42QL7tRJ1",
        "outputId": "30ba3332-7826-48f7-c521-55464bd73bc3"
      },
      "outputs": [
        {
          "output_type": "stream",
          "name": "stdout",
          "text": [
            "<class 'function'>\n",
            "<function add_s at 0x7fb999dce680>\n",
            "dogs\n"
          ]
        }
      ],
      "source": [
        "# Function declaration using def\n",
        "def add_s(x):\n",
        "    return x + 's'\n",
        "\n",
        "print(type(add_s))\n",
        "print(add_s)\n",
        "print(add_s('dog'))"
      ]
    },
    {
      "cell_type": "code",
      "execution_count": null,
      "metadata": {
        "colab": {
          "base_uri": "https://localhost:8080/"
        },
        "id": "6MVqBJDXtRJ4",
        "outputId": "1add1be0-9cfa-4dc6-a18a-18c8e69bcbf1"
      },
      "outputs": [
        {
          "output_type": "stream",
          "name": "stdout",
          "text": [
            "<class 'function'>\n",
            "<function <lambda> at 0x7fb999e1bef0>\n",
            "dogs\n"
          ]
        }
      ],
      "source": [
        "# Same function declared as a lambda\n",
        "add_s_lambda = lambda x: x + 's'\n",
        "print(type(add_s_lambda))\n",
        "print(add_s_lambda)  # Note that the function shows its name as <lambda>\n",
        "print(add_s_lambda('dog'))"
      ]
    },
    {
      "cell_type": "code",
      "execution_count": null,
      "metadata": {
        "colab": {
          "base_uri": "https://localhost:8080/"
        },
        "id": "mOp4Ju79tRJ8",
        "outputId": "8000ec1a-a12c-407d-9863-587e71969913"
      },
      "outputs": [
        {
          "output_type": "stream",
          "name": "stdout",
          "text": [
            "10\n",
            "True\n"
          ]
        }
      ],
      "source": [
        "# Code a function using a lambda expression which takes\n",
        "# a number and returns this number multiplied by two.\n",
        "multiply_by_two = lambda x: x*2\n",
        "print(multiply_by_two(5))\n",
        "\n",
        "print(multiply_by_two(10) == 20)"
      ]
    },
    {
      "cell_type": "markdown",
      "metadata": {
        "id": "nJlViCP6tRKI"
      },
      "source": [
        "Observe the behavior of the following code:"
      ]
    },
    {
      "cell_type": "code",
      "execution_count": null,
      "metadata": {
        "colab": {
          "base_uri": "https://localhost:8080/"
        },
        "id": "BaBVXHRftRKJ",
        "outputId": "54a1b8b1-0c1c-48b2-aa6d-4df65ed6085b"
      },
      "outputs": [
        {
          "output_type": "stream",
          "name": "stdout",
          "text": [
            "3\n",
            "-1\n"
          ]
        }
      ],
      "source": [
        "def add(x, y):\n",
        "    \"\"\"Add two values\"\"\"\n",
        "    return x+y\n",
        "\n",
        "def sub(x, y):\n",
        "    \"\"\"Substract y from x\"\"\"\n",
        "    return x-y\n",
        "\n",
        "functions = [add, sub]\n",
        "print(functions[0](1, 2))\n",
        "print(functions[1](3, 4))"
      ]
    },
    {
      "cell_type": "markdown",
      "metadata": {
        "id": "3ULfcjzvtRKM"
      },
      "source": [
        "Code the same functionality, using lambda expressions:"
      ]
    },
    {
      "cell_type": "code",
      "execution_count": null,
      "metadata": {
        "colab": {
          "base_uri": "https://localhost:8080/"
        },
        "id": "kyrrjXjptRKN",
        "outputId": "57401edd-a2a9-4dc0-b118-f9e12730ddb1"
      },
      "outputs": [
        {
          "output_type": "stream",
          "name": "stdout",
          "text": [
            "True\n",
            "True\n"
          ]
        }
      ],
      "source": [
        "lambda_functions = [lambda x,y: x+y ,  lambda x,y: x-y]\n",
        "\n",
        "print(lambda_functions[0](1, 2) == 3)\n",
        "print(lambda_functions[1](3, 4) == -1)"
      ]
    },
    {
      "cell_type": "markdown",
      "metadata": {
        "id": "ED1XVrZxtRKR"
      },
      "source": [
        "Lambda expressions can be used to generate functions that take in zero or more parameters. The syntax for `lambda` allows for multiple ways to define the same function.  For example, we might want to create a function that takes in a single parameter, where the parameter is a tuple consisting of two values, and the function adds the two values.  The syntax could be either \n",
        "\n",
        "    lambda x: x[0] + x[1]\n",
        "    \n",
        "or \n",
        "    \n",
        "    lambda (x, y): x + y\n",
        "\n",
        "If we called either function on the tuple `(1, 2)` it would return `3`."
      ]
    },
    {
      "cell_type": "code",
      "execution_count": null,
      "metadata": {
        "colab": {
          "base_uri": "https://localhost:8080/"
        },
        "id": "nP830YHpmX2Q",
        "outputId": "d7ca83d2-478d-42dd-f735-554250dcf30e"
      },
      "outputs": [
        {
          "output_type": "stream",
          "name": "stdout",
          "text": [
            "add_two_1((1,2), (3,4)) = (4, 6)\n",
            "add_two_2(1,2,3,4) = (4, 6)\n"
          ]
        }
      ],
      "source": [
        "# Example:\n",
        "add_two_1 = lambda x, y: (x[0] + y[0], x[1] + y[1])\n",
        "add_two_2 = lambda x0, x1, y0, y1: (x0 + y0, x1 + y1)\n",
        "print('add_two_1((1,2), (3,4)) = {0}'.format(add_two_1((1,2), (3,4))))\n",
        "print('add_two_2(1,2,3,4) = {0}'.format(add_two_2(1,2,3,4)))"
      ]
    },
    {
      "cell_type": "code",
      "execution_count": null,
      "metadata": {
        "colab": {
          "base_uri": "https://localhost:8080/"
        },
        "id": "GDn7Z7dstRKV",
        "outputId": "917ac151-0410-4a19-ae07-378a62073296"
      },
      "outputs": [
        {
          "output_type": "stream",
          "name": "stdout",
          "text": [
            "True\n",
            "True\n"
          ]
        }
      ],
      "source": [
        "# Use both syntaxes to create a function that takes in a tuple of three values and reverses their order\n",
        "# E.g. (1, 2, 3) => (3, 2, 1)\n",
        "reverse1 = lambda x: (x[2], x[1], x[0])\n",
        "reverse2 = lambda x0, x1, x2: (x2, x1, x0)\n",
        "\n",
        "print(reverse1((1, 2, 3)) == (3, 2, 1))\n",
        "print(reverse2(1, 2, 3) == (3, 2, 1))"
      ]
    },
    {
      "cell_type": "markdown",
      "metadata": {
        "id": "GuRsJH2btRKY"
      },
      "source": [
        "Lambda expressions allow you to reduce the size of your code, but they are limited to simple logic. The following Python keywords refer to statements that cannot be used in a lambda expression: `assert`, `pass`, `del`, `print`, `return`, `yield`, `raise`, `break`, `continue`, `import`, `global`, and `exec`.  Assignment statements (`=`) and augmented assignment statements (e.g. `+=`) cannot be used either. If more complex logic is necessary, use `def` in place of `lambda`."
      ]
    },
    {
      "cell_type": "markdown",
      "metadata": {
        "id": "C8oYTUJDtRKZ"
      },
      "source": [
        "## 5. Classes\n",
        "Classes allow you to create objects. Object Oriented Programming (OOP) can be a very powerful paradigm. If done well, OOP  allows you to improve the modularity and reusability of your code, but that's the subject of an entire other course. \n",
        "Here is a *very* short introduction to it.\n",
        "\n",
        "By convention, class names are written in camel case, e.g. `MyBeautifulClass`, while variable and function names are written in snake case, e.g. `my_variable`, `my_very_complex_function`\n",
        "\n",
        "Classes contain methods (i.e. functions owned by the class) and attributes (i.e. variables owned by the class). \n",
        "When you define a class, first thing to do is to define a specific method, the constructor. In Python, the constructor is called `__init__`. This method is used to create the instances of an object. Example:\n",
        "\n",
        "    class MyClass:\n",
        "    \n",
        "        def __init__(self, first_attribute, second_attribute):\n",
        "            self.first_attribute = first_attribute\n",
        "            self.second_attribute = second_attribute\n",
        "            \n",
        "This class has two attributes, and one (hidden) method, the constructor. To create an instance of this class, one simply does:\n",
        "\n",
        "    instance_example = MyClass(1, \"foo\")\n",
        "    \n",
        "Then, the attributes can easily be accessed to:\n",
        "\n",
        "    instance_example.first_attribute  # => 1\n",
        "    instance_example.first_attribute  # => \"foo\""
      ]
    },
    {
      "cell_type": "code",
      "execution_count": null,
      "metadata": {
        "colab": {
          "base_uri": "https://localhost:8080/"
        },
        "id": "keBR9vgQtRKc",
        "outputId": "8694812d-8827-4764-9bf6-0eb80c49d1fe"
      },
      "outputs": [
        {
          "output_type": "stream",
          "name": "stdout",
          "text": [
            "1\n",
            "3\n"
          ]
        }
      ],
      "source": [
        "# Run this example\n",
        "class MyClass:\n",
        "    \n",
        "    def __init__(self, first_attribute, second_attribute):\n",
        "        self.first_attribute = first_attribute\n",
        "        self.second_attribute = second_attribute\n",
        "            \n",
        "instance_example = MyClass(1, \"foo\") \n",
        "print(instance_example.first_attribute)\n",
        "instance_example.__init__(3,4)  # In real life, it is rare to reinit an object.\n",
        "print(instance_example.first_attribute)"
      ]
    },
    {
      "cell_type": "markdown",
      "metadata": {
        "id": "8AO18Rz7tRKf"
      },
      "source": [
        "`self` denotes the object itself. When you declare a method, you have to pass `self` as the first argument of the method:\n",
        "\n",
        "class MyClass:\n",
        "    \n",
        "    def __init__(self, first_attribute, second_attribute):\n",
        "        self.first_attribute = first_attribute\n",
        "        self.second_attribute = second_attribute\n",
        "   \n",
        "    def method_baz(self):\n",
        "        print \"Hello! I'm a method! I have two attributes, initialized with values %s, %s\"%(self.first_attribute, self.second_attribute)\n",
        "        \n",
        "indeed, when we call\n",
        "    \n",
        "    instance_example = MyClass(1, \"foo\") \n",
        "    instance_example.method_baz()\n",
        "    \n",
        "the `self` object is implicitely passed to `method_baz`as an argument. Think of the method call as the following function call\n",
        "\n",
        "    method_baz(instance_example)"
      ]
    },
    {
      "cell_type": "code",
      "execution_count": null,
      "metadata": {
        "colab": {
          "base_uri": "https://localhost:8080/"
        },
        "id": "oZde0pPntRKg",
        "outputId": "935e23c9-e140-4b8e-f0b2-612b6d526d5d"
      },
      "outputs": [
        {
          "output_type": "stream",
          "name": "stdout",
          "text": [
            "Hello! I'm a method! My class has two attributes, of value 1 and foo.\n"
          ]
        }
      ],
      "source": [
        "# Run this example\n",
        "class MyClass:\n",
        "    \n",
        "    def __init__(self, first_attribute, second_attribute):\n",
        "        self.first_attribute = first_attribute\n",
        "        self.second_attribute = second_attribute\n",
        "    \n",
        "    def class_method(self):\n",
        "        print(\"Hello! I'm a method! My class has two attributes, of value {0} and {1}.\".format(self.first_attribute, self.second_attribute))\n",
        "            \n",
        "instance_example = MyClass(1, \"foo\") \n",
        "# Call to a class method\n",
        "instance_example.class_method()"
      ]
    },
    {
      "cell_type": "markdown",
      "metadata": {
        "id": "fLUmPnKntRKo"
      },
      "source": [
        "Now, the tricky part. You can declare **static** methods, i.e. methods that don't need to access the data contained in `self` to work properly. Such methods do not require the `self` argument as they do not use any instance data. They are implemented in the following way:"
      ]
    },
    {
      "cell_type": "code",
      "execution_count": null,
      "metadata": {
        "colab": {
          "base_uri": "https://localhost:8080/"
        },
        "id": "ZfkEAQbGtRKp",
        "outputId": "2e542d87-2f78-443a-c41c-ca7914290c1a"
      },
      "outputs": [
        {
          "output_type": "stream",
          "name": "stdout",
          "text": [
            "Hello! I'm a method! My class has two attributes, of value 1, foo\n",
            "I'm a static method!\n"
          ]
        }
      ],
      "source": [
        "# Run this example\n",
        "class MyClass:\n",
        "    \n",
        "    def __init__(self, first_attribute, second_attribute):\n",
        "        self.first_attribute = first_attribute\n",
        "        self.second_attribute = second_attribute\n",
        "    \n",
        "    def class_method(self):\n",
        "        print(\"Hello! I'm a method! My class has two attributes, of value {0}, {1}\".format(self.first_attribute, self.second_attribute))\n",
        "         \n",
        "    @staticmethod\n",
        "    def static_method():\n",
        "        print(\"I'm a static method!\")\n",
        "            \n",
        "instance_example = MyClass(1, \"foo\") \n",
        "# Call to a class method\n",
        "instance_example.class_method()\n",
        "# Call to a static method\n",
        "instance_example.static_method()"
      ]
    },
    {
      "cell_type": "code",
      "execution_count": null,
      "metadata": {
        "colab": {
          "base_uri": "https://localhost:8080/"
        },
        "id": "kjsCfutptRKu",
        "outputId": "c8f99d82-1f80-48a6-bf81-8fba1341ac84"
      },
      "outputs": [
        {
          "output_type": "stream",
          "name": "stdout",
          "text": [
            "I'm a static method!\n"
          ]
        }
      ],
      "source": [
        "# Call to a static method without class instanciation\n",
        "MyClass.static_method()"
      ]
    },
    {
      "cell_type": "code",
      "execution_count": null,
      "metadata": {
        "id": "WjIceCletRKy"
      },
      "outputs": [],
      "source": [
        "# Call to a class method without class instanciation: raises an error\n",
        "# MyClass.class_method()\n",
        "# => TypeError: unbound method class_method() must be called with MyClass instance as first argument (got nothing instead)"
      ]
    },
    {
      "cell_type": "markdown",
      "metadata": {
        "id": "WrGtoiEptRK1"
      },
      "source": [
        "You can set attributes without passing them to the constructor:"
      ]
    },
    {
      "cell_type": "code",
      "execution_count": null,
      "metadata": {
        "colab": {
          "base_uri": "https://localhost:8080/"
        },
        "id": "1EtLi3gRtRK2",
        "outputId": "d86478e4-a04c-4129-ebeb-ee42391dfe66"
      },
      "outputs": [
        {
          "output_type": "stream",
          "name": "stdout",
          "text": [
            "42\n"
          ]
        }
      ],
      "source": [
        "# Run this example\n",
        "class MyClass:\n",
        "    \n",
        "    default_attribute = 42\n",
        "    \n",
        "    def __init__(self, first_attribute, second_attribute):\n",
        "        self.first_attribute = first_attribute\n",
        "        self.second_attribute = second_attribute\n",
        "    \n",
        "    def method_baz(self):\n",
        "        print(\"Hello! I'm a method! I have two attributes, initialized with values %s, %s\"%(self.first_attribute, self.second_attribute))\n",
        "        \n",
        "    @staticmethod\n",
        "    def static_method():\n",
        "        print(\"I'm a static method!\")\n",
        "            \n",
        "instance_example = MyClass(1, \"foo\") \n",
        "print(instance_example.default_attribute)"
      ]
    },
    {
      "cell_type": "code",
      "execution_count": null,
      "metadata": {
        "colab": {
          "base_uri": "https://localhost:8080/"
        },
        "id": "9f2LfrfEtRK6",
        "outputId": "34172a0e-090e-4c02-8116-002e45b3cc03"
      },
      "outputs": [
        {
          "output_type": "stream",
          "name": "stdout",
          "text": [
            "The area of the rectangle is 120\n",
            "True\n",
            "The perimeter of the rectangle is 44\n",
            "True\n",
            "True\n",
            "True\n"
          ]
        }
      ],
      "source": [
        "# Write a Python class named Rectangle which is \n",
        "# constructed by a length and width \n",
        "# and has two class methods\n",
        "# - \"rectange_area\", which computes the area of a rectangle.\n",
        "# - \"rectangle_perimeter\", which computes the perimeter of a rectangle.\n",
        "#\n",
        "# The Rectangle class should have an attribute n_edges equal to 4\n",
        "# which should not be initialized by the __init__ constructor.\n",
        "#\n",
        "# Declare a static method \"talk\" that returns \"Do you like rectangles?\" when called\n",
        "\n",
        "class Rectangle: \n",
        "\n",
        "  # a rectangle is composed of 4 edges\n",
        "  n_edges = 4\n",
        "\n",
        "  # we initialize the width and length of the rectangle \n",
        "  def __init__(self, length, width):\n",
        "      self.length = length\n",
        "      self.width = width\n",
        "\n",
        "  # we compute the area of the rectangle\n",
        "  def rectangle_area(self):\n",
        "    area = self.length*self.width\n",
        "    print(\"The area of the rectangle is %s\"%area)\n",
        "    return area\n",
        "\n",
        "  # we compute the perimeter of the rectangle\n",
        "  def rectangle_perimeter(self):\n",
        "    perimeter = 2*(self.length+self.width)\n",
        "    print(\"The perimeter of the rectangle is %s\"%perimeter)\n",
        "    return perimeter\n",
        "\n",
        "  @staticmethod\n",
        "  def talk():\n",
        "      return \"Do you like rectangles?\"\n",
        "\n",
        "new_rectangle = Rectangle(12, 10)\n",
        "print(new_rectangle.rectangle_area() == 120)# rectangle_area method\n",
        "print(new_rectangle.rectangle_perimeter() == 44) # rectangle_area method\n",
        "print(Rectangle.n_edges == 4) # constant attibute\n",
        "print(Rectangle.talk() == \"Do you like rectangles?\") # Rectangle talk static method"
      ]
    },
    {
      "cell_type": "markdown",
      "metadata": {
        "id": "b9MImlMxmX2S"
      },
      "source": [
        "In machine learning, when you're manipulating large images, you often need to break the diwn into smaller, more manageable images.\n",
        "- Modify the previous rectangle class to include a list of patches.\n",
        "- Write a Python class named Patch which is a square of size 1x1. Each patch should be identified by his coordinates.\n",
        "- Use the [\\_\\_iter\\_\\_](https://www.datacamp.com/community/tutorials/python-iterator-tutorial) function to create a get_next_patch() in the Rectangle class."
      ]
    },
    {
      "cell_type": "code",
      "execution_count": 51,
      "metadata": {
        "id": "M_j1iaDkmX2S",
        "colab": {
          "base_uri": "https://localhost:8080/"
        },
        "outputId": "71736976-0bfc-49e2-da83-b555294b2eca"
      },
      "outputs": [
        {
          "output_type": "stream",
          "name": "stdout",
          "text": [
            "(1, 0)\n",
            "(2, 0)\n",
            "(3, 0)\n",
            "(4, 0)\n",
            "(5, 0)\n",
            "(6, 0)\n",
            "(7, 0)\n",
            "(8, 0)\n",
            "(9, 0)\n",
            "(0, 1)\n",
            "(1, 1)\n",
            "(2, 1)\n",
            "(3, 1)\n",
            "(4, 1)\n",
            "(5, 1)\n",
            "(6, 1)\n",
            "(7, 1)\n",
            "(8, 1)\n",
            "(9, 1)\n",
            "(0, 2)\n",
            "(1, 2)\n",
            "(2, 2)\n",
            "(3, 2)\n",
            "(4, 2)\n",
            "(5, 2)\n",
            "(6, 2)\n",
            "(7, 2)\n",
            "(8, 2)\n",
            "(9, 2)\n",
            "(0, 3)\n",
            "(1, 3)\n",
            "(2, 3)\n",
            "(3, 3)\n",
            "(4, 3)\n",
            "(5, 3)\n",
            "(6, 3)\n",
            "(7, 3)\n",
            "(8, 3)\n",
            "(9, 3)\n",
            "(0, 4)\n",
            "(1, 4)\n",
            "(2, 4)\n",
            "(3, 4)\n",
            "(4, 4)\n",
            "(5, 4)\n",
            "(6, 4)\n",
            "(7, 4)\n",
            "(8, 4)\n",
            "(9, 4)\n",
            "(0, 5)\n",
            "(1, 5)\n",
            "(2, 5)\n",
            "(3, 5)\n",
            "(4, 5)\n",
            "(5, 5)\n",
            "(6, 5)\n",
            "(7, 5)\n",
            "(8, 5)\n",
            "(9, 5)\n",
            "(0, 6)\n",
            "(1, 6)\n",
            "(2, 6)\n",
            "(3, 6)\n",
            "(4, 6)\n",
            "(5, 6)\n",
            "(6, 6)\n",
            "(7, 6)\n",
            "(8, 6)\n",
            "(9, 6)\n",
            "(0, 7)\n",
            "(1, 7)\n",
            "(2, 7)\n",
            "(3, 7)\n",
            "(4, 7)\n",
            "(5, 7)\n",
            "(6, 7)\n",
            "(7, 7)\n",
            "(8, 7)\n",
            "(9, 7)\n",
            "(0, 8)\n",
            "(1, 8)\n",
            "(2, 8)\n",
            "(3, 8)\n",
            "(4, 8)\n",
            "(5, 8)\n",
            "(6, 8)\n",
            "(7, 8)\n",
            "(8, 8)\n",
            "(9, 8)\n",
            "(0, 9)\n",
            "(1, 9)\n",
            "(2, 9)\n",
            "(3, 9)\n",
            "(4, 9)\n",
            "(5, 9)\n",
            "(6, 9)\n",
            "(7, 9)\n",
            "(8, 9)\n",
            "(9, 9)\n",
            "(0, 10)\n",
            "(1, 10)\n",
            "(2, 10)\n",
            "(3, 10)\n",
            "(4, 10)\n",
            "(5, 10)\n",
            "(6, 10)\n",
            "(7, 10)\n",
            "(8, 10)\n",
            "(9, 10)\n",
            "(0, 11)\n",
            "(1, 11)\n",
            "(2, 11)\n",
            "(3, 11)\n",
            "(4, 11)\n",
            "(5, 11)\n",
            "(6, 11)\n",
            "(7, 11)\n",
            "(8, 11)\n",
            "(9, 11)\n",
            "\n",
            "119 patches.\n"
          ]
        }
      ],
      "source": [
        "class Rectangle :\n",
        "\n",
        "  n_edges = 4\n",
        "    \n",
        "  def __init__(self, length, width):\n",
        "      self.length = length\n",
        "      self.width = width\n",
        "\n",
        "  def rectangle_area(self):\n",
        "    area = self.length*self.width\n",
        "    print(\"The area of the rectangle is %s\"%area)\n",
        "    return area\n",
        "\n",
        "  def rectangle_perimeter(self):\n",
        "    perimeter = 2*(self.length+self.width)\n",
        "    print(\"The perimeter of the rectangle is %s\"%perimeter)\n",
        "    return perimeter\n",
        "\n",
        "  @staticmethod\n",
        "  def talk():\n",
        "      return \"Do you like rectangles?\"\n",
        "\n",
        "\n",
        "class Patch:\n",
        "\n",
        "    # a patch has 4 edges too\n",
        "    n_edges = 4\n",
        "\n",
        "    def __init__(self, rectangle):\n",
        "        # it is a square of length 1 and width 1\n",
        "        self.length = 1\n",
        "        self.width = 1\n",
        "        # thes are the maximum corrdinates of the patch in the rectangle\n",
        "        self.y_max = rectangle.length\n",
        "        self.x_max = rectangle.width\n",
        "\n",
        "    # we initialize the position of the patch in the rectangle\n",
        "    def __iter__(self):\n",
        "        self.x=1\n",
        "        self.y=1\n",
        "        return self\n",
        "    \n",
        "    # we go through the whole length and width of the rectangle \n",
        "    # and we get the powition of each patch\n",
        "    def __next__(self):\n",
        "        if self.x + 1 <= self.x_max:\n",
        "            self.x = self.x + 1\n",
        "        elif self.x + 1 > self.x_max:\n",
        "            self.x = 1\n",
        "            if self.y + 1 <= self.y_max:\n",
        "                self.y = self.y + 1\n",
        "            elif self.y + 1 > self.y_max:\n",
        "                raise StopIteration\n",
        "        return(self.x-1,self.y-1)\n",
        "\n",
        "\n",
        "    def __str__(self):\n",
        "        return 'Coordinates : x' + str(_next_(self)[0]) + ' ,y=' + str(_next_(self)[1])\n",
        "\n",
        "\n",
        "rectangle = Rectangle(12,10)\n",
        "\n",
        "# should print all the patches in your rectangle\n",
        "patch_rectangle = Patch(rectangle)\n",
        "decomposition_patch = iter(patchi)\n",
        "\n",
        "nb_patch = 0\n",
        "\n",
        "try :\n",
        "    while True:\n",
        "        print(next(decomposition_patch))\n",
        "        nb_patch = nb_patch + 1\n",
        "except :\n",
        "    print(\"\")\n",
        "    print(nb_patch, \"patches.\")"
      ]
    },
    {
      "cell_type": "markdown",
      "source": [
        "Use the same approach to create two classes :\n",
        "- Sentence which is a list of words\n",
        "- Word which encapsulate a string with a specific order within the sentence\n",
        "Implement both [\\_\\_str\\_\\_](https://docs.python.org/3/reference/datamodel.html?highlight=__str__#object.__str__) and [\\_\\_repr\\_\\_](https://docs.python.org/3/reference/datamodel.html?highlight=__str__#object.__repr__) for both classes. `__str__` should be readable when `__repr__` should offer you information to helps you debug.\n",
        "In Natural Language Processing you'll use a lot of n-grams (which is the set of *n* sequential words). So you should implement a get_next_bigrams() method in the Sentence class. For instance give the sentence \"My name is Brian\", it should return an element of the list of bigrams ```[\"My name\", \"name is\", \"is Brian\"]```"
      ],
      "metadata": {
        "id": "uF-UfE-F8qfr"
      }
    },
    {
      "cell_type": "code",
      "execution_count": 50,
      "metadata": {
        "id": "18hNcUucmX2S",
        "colab": {
          "base_uri": "https://localhost:8080/"
        },
        "outputId": "ef70fed8-8474-4c9f-e2fe-c20e3743f9be"
      },
      "outputs": [
        {
          "output_type": "stream",
          "name": "stdout",
          "text": [
            "My name\n",
            "name is\n",
            "is Brian\n",
            "\n",
            "3 bigrams\n"
          ]
        }
      ],
      "source": [
        "class Sentence :\n",
        "  def __init__(self, text):\n",
        "    # text of the sentence\n",
        "    self.text = text\n",
        "    # the sentence is splitted into a list of words\n",
        "    self.word_list = self.text.split()\n",
        "\n",
        "\n",
        "class Word :\n",
        "\n",
        "  def __init__(self, sentence):\n",
        "    # one word\n",
        "    self.length = 1 \n",
        "    # length of the sentence\n",
        "    self.length_sentence = len(sentence.word_list)\n",
        "    # the word is in the list of words of the sentence (i.e. it is a subclass of the sentence)\n",
        "    self.word_list = sentence.word_list\n",
        "    \n",
        "  def __iter__(self):\n",
        "    # First place of the word in the sentence, on which we are going to iterate\n",
        "    self.x=0\n",
        "    return self  \n",
        "\n",
        "  def __next__(self):\n",
        "    # we move the place of the word in the sentence to get the next bigram\n",
        "    if self.x + 1 < self.length_sentence:\n",
        "            self.x = self.x + 1\n",
        "    # if we have reached the end of the sentence we stop the iteration\n",
        "    elif self.x + 1 >= self.length_sentence :\n",
        "      raise StopIteration\n",
        "    # we return the bigram\n",
        "    return(' '.join(self.word_list[self.x-1:self.x+1]))\n",
        "\n",
        "\n",
        "# we initialize the sentence\n",
        "my_sentence = Sentence(\"My name is Brian\")\n",
        "\n",
        "# should print all the bigrams in our sentence\n",
        "word_sentence = Word(my_sentence)\n",
        "decomposition_word = iter(word_sentence)\n",
        "\n",
        "nb_bigram = 0\n",
        "try :\n",
        "    while True:\n",
        "        print(next(decomposition_word))\n",
        "        nb_bigram = nb_bigram +1\n",
        "except :\n",
        "    print(\"\")\n",
        "    print(nb_bigram, \"bigrams\")"
      ]
    },
    {
      "cell_type": "markdown",
      "source": [
        "# 6. Modules\n",
        "Finally one really important part of python is the ability to create modules.\n",
        "Read https://docs.python.org/fr/3/tutorial/modules.html and create a module named geo with the classes Rectangle & Patch.\n",
        "Import the ```geo``` module and demonstrate the different calls.\n",
        "\n",
        "Repeat the operation with an ```NLP``` module to encapsulate the classes Sentence and Word.\n",
        "In Natural Language Processing you'll use a lot of n-grams (which is the set of *n* sequential words). So you should implement a ```get_bigrams(sentence)``` method who will return a list of bigrams."
      ],
      "metadata": {
        "id": "z6QF89C9JktY"
      }
    },
    {
      "cell_type": "code",
      "execution_count": 45,
      "metadata": {
        "id": "hK6Se7CjmX2S",
        "colab": {
          "base_uri": "https://localhost:8080/"
        },
        "outputId": "12175292-6268-40a1-ff7b-40ae73b43e58"
      },
      "outputs": [
        {
          "output_type": "stream",
          "name": "stdout",
          "text": [
            "The perimeter of the rectangle is 44\n",
            "44\n"
          ]
        }
      ],
      "source": [
        "import geo\n",
        "from nltk import ngrams\n",
        "\n",
        "rectangle = geo.Rectangle(12,10)\n",
        "patch = geo.Patch()\n",
        "\n",
        "print(rectangle.rectangle_perimeter())"
      ]
    },
    {
      "cell_type": "code",
      "execution_count": 47,
      "metadata": {
        "id": "XXb9edfBmX2S",
        "colab": {
          "base_uri": "https://localhost:8080/"
        },
        "outputId": "bc87ab1c-def6-4c56-b1c5-961a41d8d66c"
      },
      "outputs": [
        {
          "output_type": "execute_result",
          "data": {
            "text/plain": [
              "('My', 'name')"
            ]
          },
          "metadata": {},
          "execution_count": 47
        }
      ],
      "source": [
        "import NLP\n",
        "\n",
        "def get_next_bigrams(sentence):\n",
        "    n=2\n",
        "    bigram = ngrams(sentence.text.split(), n)\n",
        "    return bigram.__next__()\n",
        "\n",
        "test_sentence = Sentence(\"My name is Brian\")\n",
        "\n",
        "get_next_bigrams(test_sentence)"
      ]
    },
    {
      "cell_type": "markdown",
      "metadata": {
        "id": "o8QjjBIBmX2T"
      },
      "source": [
        "# 7. Coding style\n",
        "\n",
        "You'll often ask yourself about which letters should be capital or if you should use _ or other characters.\n",
        "\n",
        "To help you decide, python comes with PEP-8 which is a set of recommandation.\n",
        "\n",
        "It is highly advised to read PEP-8 and to apply the rules whenever it's applicable.\n",
        "\n",
        "You'll get point for style in your code (I mean, you will lose points if the code is not readable).\n",
        "\n",
        "Fortunately, [the rules of PEP-8 are not perfect and should not always be followed](https://www.youtube.com/watch?v=wf-BqAjZb8M)."
      ]
    },
    {
      "cell_type": "code",
      "execution_count": 49,
      "metadata": {
        "id": "7101p_5WmX2T"
      },
      "outputs": [],
      "source": [
        "# You should create a github account before the next session :\n",
        "student_1_github_login = 'LucieBertiere'"
      ]
    },
    {
      "cell_type": "markdown",
      "metadata": {
        "id": "m5UTrCzjtRLF"
      },
      "source": [
        "Congratulations, you've reached the end of this notebook. =)"
      ]
    }
  ]
}